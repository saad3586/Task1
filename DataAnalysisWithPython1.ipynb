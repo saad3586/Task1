{
 "cells": [
  {
   "cell_type": "code",
   "execution_count": 2,
   "metadata": {},
   "outputs": [
    {
     "name": "stdout",
     "output_type": "stream",
     "text": [
      "Updating in Dictionary :  [10, 7, 2, 21, 15, 5]\n",
      "Updating in Dictionary :  {'name': 'saad', 'from': 'India', 'mark': '77,56,34', 'gender': 'Male'}\n",
      "Updating in set:  {2, 5, 6, 7, 8, 12}\n"
     ]
    }
   ],
   "source": [
    "'''Responsibility: Write a Python program to create a list, a\n",
    "dictionary, and a set. Perform basic operations\n",
    "like adding, removing, and modifying\n",
    "elements.'''\n",
    "# Create A List \n",
    "L = [1, 8, 7, 2, 21, 15 ]\n",
    "# Add this value in list using append method\n",
    "L.append(5)\n",
    "# Revome this value in this using remove method\n",
    "L.remove(1)\n",
    "# Modifying\n",
    "L[0]=10\n",
    "print(\"Updating in Dictionary : \", L)\n",
    "\n",
    "\n",
    "# Creating a Dictionary\n",
    "d = {\"name\" : \"saad\",\n",
    "     \"from\" : \"India\",\n",
    "     \"mark\" : \"92, 98, 96\"}\n",
    "# Adding\n",
    "d[\"gender\"] = \"Male\"\n",
    "\n",
    "# Removing\n",
    "d[\"from\"]\n",
    "\n",
    "# Modifying\n",
    "d[\"mark\"] = \"77,56,34\" \n",
    "\n",
    "print(\"Updating in Dictionary : \", d)\n",
    "\n",
    "# Creating a Set\n",
    "s = {1,2,3,5,6,7}\n",
    "\n",
    "#adding\n",
    "s.add(8)\n",
    "\n",
    "# Removing \n",
    "s.remove(3)\n",
    "\n",
    "# Modifying\n",
    "s.discard(1)\n",
    "s.add(12)\n",
    "\n",
    "print(\"Updating in set: \", s)"
   ]
  },
  {
   "cell_type": "code",
   "execution_count": null,
   "metadata": {},
   "outputs": [],
   "source": []
  }
 ],
 "metadata": {
  "kernelspec": {
   "display_name": "Python 3",
   "language": "python",
   "name": "python3"
  },
  "language_info": {
   "codemirror_mode": {
    "name": "ipython",
    "version": 3
   },
   "file_extension": ".py",
   "mimetype": "text/x-python",
   "name": "python",
   "nbconvert_exporter": "python",
   "pygments_lexer": "ipython3",
   "version": "3.7.3"
  }
 },
 "nbformat": 4,
 "nbformat_minor": 2
}
